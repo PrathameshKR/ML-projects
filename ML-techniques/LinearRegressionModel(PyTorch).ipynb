{
  "nbformat": 4,
  "nbformat_minor": 0,
  "metadata": {
    "colab": {
      "provenance": [],
      "gpuType": "T4",
      "authorship_tag": "ABX9TyOBzZL+Lk2IMJdXzpPbHArp",
      "include_colab_link": true
    },
    "kernelspec": {
      "name": "python3",
      "display_name": "Python 3"
    },
    "language_info": {
      "name": "python"
    },
    "accelerator": "GPU"
  },
  "cells": [
    {
      "cell_type": "markdown",
      "metadata": {
        "id": "view-in-github",
        "colab_type": "text"
      },
      "source": [
        "<a href=\"https://colab.research.google.com/github/PrathameshKR/ML-projects/blob/main/ML-techniques/LinearRegressionModel(PyTorch).ipynb\" target=\"_parent\"><img src=\"https://colab.research.google.com/assets/colab-badge.svg\" alt=\"Open In Colab\"/></a>"
      ]
    },
    {
      "cell_type": "code",
      "execution_count": null,
      "metadata": {
        "id": "ugzdaqGEJfC5"
      },
      "outputs": [],
      "source": [
        "#importing libraries\n",
        "import torch\n",
        "import matplotlib.pyplot as plt\n",
        "from torch import nn"
      ]
    },
    {
      "cell_type": "markdown",
      "source": [
        "###Create device agnostic code\n",
        "* this means if we have access to gpu then our code will use it else it will default to use cpu"
      ],
      "metadata": {
        "id": "MzngvE4vJvWO"
      }
    },
    {
      "cell_type": "code",
      "source": [
        "#setup device agnostic code\n",
        "device = \"cuda\" if torch.cuda.is_available() else \"cpu\"\n",
        "print(f\"Using device : {device}\")"
      ],
      "metadata": {
        "colab": {
          "base_uri": "https://localhost:8080/"
        },
        "id": "WWRDqqhPJ30a",
        "outputId": "aef2386b-23f8-4d2e-90da-102bdecbb6f0"
      },
      "execution_count": null,
      "outputs": [
        {
          "output_type": "stream",
          "name": "stdout",
          "text": [
            "Using device : cuda\n"
          ]
        }
      ]
    },
    {
      "cell_type": "markdown",
      "source": [
        "###Data"
      ],
      "metadata": {
        "id": "yIjWwvGCKAOd"
      }
    },
    {
      "cell_type": "code",
      "source": [
        "#create some data using linear regression formula of y = weight*x + bias\n",
        "weight = 0.7\n",
        "bias = 0.3\n",
        "\n",
        "#create range values\n",
        "start = 0\n",
        "end = 1\n",
        "step = 0.02\n",
        "\n",
        "#create X and y(features and labels)\n",
        "X = torch.arange(start,end,step).unsqueeze(dim=1) #unsqueezing to avoid dimensionnality errors later on\n",
        "y = weight*X + bias\n",
        "X[:10],y[:10]"
      ],
      "metadata": {
        "colab": {
          "base_uri": "https://localhost:8080/"
        },
        "id": "hBi0P8e5KC91",
        "outputId": "f1108098-7f21-4f59-8328-c54aa24ea355"
      },
      "execution_count": null,
      "outputs": [
        {
          "output_type": "execute_result",
          "data": {
            "text/plain": [
              "(tensor([[0.0000],\n",
              "         [0.0200],\n",
              "         [0.0400],\n",
              "         [0.0600],\n",
              "         [0.0800],\n",
              "         [0.1000],\n",
              "         [0.1200],\n",
              "         [0.1400],\n",
              "         [0.1600],\n",
              "         [0.1800]]),\n",
              " tensor([[0.3000],\n",
              "         [0.3140],\n",
              "         [0.3280],\n",
              "         [0.3420],\n",
              "         [0.3560],\n",
              "         [0.3700],\n",
              "         [0.3840],\n",
              "         [0.3980],\n",
              "         [0.4120],\n",
              "         [0.4260]]))"
            ]
          },
          "metadata": {},
          "execution_count": 7
        }
      ]
    },
    {
      "cell_type": "code",
      "source": [
        "#splitting the data into train split and test split\n",
        "train_split = int(0.8 * len(X))\n",
        "X_train,y_train = X[:train_split],y[:train_split]\n",
        "X_test,y_test = X[train_split:],y[train_split:]\n",
        "len(X_train),len(X_test),len(y_train),len(y_test)"
      ],
      "metadata": {
        "colab": {
          "base_uri": "https://localhost:8080/"
        },
        "id": "eplppyh1KGzz",
        "outputId": "f50c0156-aa16-4667-e43a-a0b0bc6b648f"
      },
      "execution_count": null,
      "outputs": [
        {
          "output_type": "execute_result",
          "data": {
            "text/plain": [
              "(40, 10, 40, 10)"
            ]
          },
          "metadata": {},
          "execution_count": 8
        }
      ]
    },
    {
      "cell_type": "markdown",
      "source": [
        "###Plotting our data"
      ],
      "metadata": {
        "id": "OyGiRiFlKJKe"
      }
    },
    {
      "cell_type": "code",
      "source": [
        "def plot_predicitions(train_data=X_train,\n",
        "                      train_labels=y_train,\n",
        "                      test_data=X_test,\n",
        "                      test_labels=y_test,\n",
        "                      predictions=None):\n",
        "  \"\"\"\n",
        "  plots training data,test data and compares predictions\n",
        "  \"\"\"\n",
        "  plt.figure(figsize=(6,6))\n",
        "\n",
        "  #plotting trainig data in blue\n",
        "  plt.scatter(train_data,train_labels,c='b',s=5,label='Training Data')\n",
        "\n",
        "  #plotting trainig data in green\n",
        "  plt.scatter(test_data,test_labels,c='g',s=5,label='Testing Data')\n",
        "\n",
        "  #check if there are any predictions, if yes then plot them\n",
        "  if predictions is not None:\n",
        "    #plotting predictions in red\n",
        "    plt.scatter(test_data,predictions,c='r',s=5,label='Predictions')\n",
        "\n",
        "  #show legend\n",
        "  plt.legend(prop={\"size\":10})"
      ],
      "metadata": {
        "id": "Ss2MmZIOKQWw"
      },
      "execution_count": null,
      "outputs": []
    },
    {
      "cell_type": "code",
      "source": [
        "plot_predicitions(X_train,y_train,X_test,y_test)"
      ],
      "metadata": {
        "colab": {
          "base_uri": "https://localhost:8080/",
          "height": 522
        },
        "id": "a73e9yfZMCSd",
        "outputId": "717a7ec4-4cef-4584-f8d0-81ee0d023b57"
      },
      "execution_count": null,
      "outputs": [
        {
          "output_type": "display_data",
          "data": {
            "text/plain": [
              "<Figure size 600x600 with 1 Axes>"
            ],
            "image/png": "[encoded data removed]"
          },
          "metadata": {}
        }
      ]
    },
    {
      "cell_type": "markdown",
      "source": [
        "###Building our PyTorch model"
      ],
      "metadata": {
        "id": "n8uEygtnMaU1"
      }
    },
    {
      "cell_type": "code",
      "source": [
        "class LinearRegressionModel(nn.Module):\n",
        "  def __init__(self):\n",
        "    super().__init__()\n",
        "    #use nn.Linear() for creating model parameters(also called linear transform,probing layer,fully connected layer,dense layer)\n",
        "    self.linear_layer = nn.Linear(in_features=1,  #unlike above model where we intialized parameters here we are using built in function nn.Linear which will create parameters for us,also intialize them\n",
        "                                  out_features=1)  #while training when nn.Module is called it uses its built in formula to calculate w & b\n",
        "\n",
        "  def forward(self, x: torch.Tensor) -> torch.Tensor: #hence their is no neeed to specify formula in forward method rather we will call nn.Module\n",
        "    return self.linear_layer(x)\n",
        "\n",
        "#set manual seed\n",
        "torch.manual_seed(42)\n",
        "model_1 = LinearRegressionModel()\n",
        "model_1,model_1.state_dict()\n"
      ],
      "metadata": {
        "colab": {
          "base_uri": "https://localhost:8080/"
        },
        "id": "007W4frPM3da",
        "outputId": "54c2affd-61a5-40fc-a90c-42c234b11962"
      },
      "execution_count": null,
      "outputs": [
        {
          "output_type": "execute_result",
          "data": {
            "text/plain": [
              "(LinearRegressionModel(\n",
              "   (linear_layer): Linear(in_features=1, out_features=1, bias=True)\n",
              " ),\n",
              " OrderedDict([('linear_layer.weight', tensor([[0.7645]])),\n",
              "              ('linear_layer.bias', tensor([0.8300]))]))"
            ]
          },
          "metadata": {},
          "execution_count": 11
        }
      ]
    },
    {
      "cell_type": "code",
      "source": [
        "#check model current device\n",
        "next(model_1.parameters()).device"
      ],
      "metadata": {
        "colab": {
          "base_uri": "https://localhost:8080/"
        },
        "id": "Tq8NjiFQNKHe",
        "outputId": "23002bf9-543d-4336-ec7f-d660aad713fd"
      },
      "execution_count": null,
      "outputs": [
        {
          "output_type": "execute_result",
          "data": {
            "text/plain": [
              "device(type='cpu')"
            ]
          },
          "metadata": {},
          "execution_count": 12
        }
      ]
    },
    {
      "cell_type": "code",
      "source": [
        "#set the model to use target device\n",
        "model_1.to(device)\n",
        "next(model_1.parameters()).device"
      ],
      "metadata": {
        "colab": {
          "base_uri": "https://localhost:8080/"
        },
        "id": "8fpVC7SJNTU2",
        "outputId": "9f591a6b-bbdb-4b41-a1c5-18bced05676d"
      },
      "execution_count": null,
      "outputs": [
        {
          "output_type": "execute_result",
          "data": {
            "text/plain": [
              "device(type='cuda', index=0)"
            ]
          },
          "metadata": {},
          "execution_count": 13
        }
      ]
    },
    {
      "cell_type": "markdown",
      "source": [
        "###Training Model"
      ],
      "metadata": {
        "id": "R0ekn-PlNdpa"
      }
    },
    {
      "cell_type": "code",
      "source": [
        "#setup loss function\n",
        "loss_fn = nn.L1Loss()\n",
        "\n",
        "#setup optimizer\n",
        "optimizer = torch.optim.SGD(model_1.parameters(),lr=0.01)"
      ],
      "metadata": {
        "id": "gRccx2vzNjgi"
      },
      "execution_count": null,
      "outputs": []
    },
    {
      "cell_type": "code",
      "source": [
        "###Training loop###\n",
        "torch.manual_seed(42)\n",
        "\n",
        "epochs = 200\n",
        "\n",
        "#put data on taget device(device agnostic code for data)\n",
        "X_train = X_train.to(device)\n",
        "y_train = y_train.to(device)\n",
        "X_test = X_test.to(device)\n",
        "y_test = y_test.to(device)\n",
        "\n",
        "for epoch in range(epochs):\n",
        "  #step1:set model to training mode\n",
        "  model_1.train()\n",
        "\n",
        "  #step2:Forward pass\n",
        "  y_pred = model_1(X_train)\n",
        "\n",
        "  #step3:calculate loss\n",
        "  loss = loss_fn(y_pred,y_train)\n",
        "\n",
        "  #step4:zero the optimizer\n",
        "  optimizer.zero_grad()\n",
        "\n",
        "  #step5:perform back propogation\n",
        "  loss.backward()\n",
        "\n",
        "  #step6:step the optimizer\n",
        "  optimizer.step()\n",
        "\n",
        "###Testing loop###\n",
        "\n",
        "#set model to test mode\n",
        "  model_1.eval()\n",
        "  with torch.inference_mode():\n",
        "    #step1:do forward pass\n",
        "    test_pred = model_1(X_test)\n",
        "\n",
        "    #step2:calculate loss\n",
        "    test_loss = loss_fn(test_pred,y_test)\n",
        "\n",
        "    #print out whats' happenin'\n",
        "    if epoch % 10 == 0:\n",
        "      print(f\"Epoch:{epoch} | Loss: {loss} | Test Loss: {test_loss}\")"
      ],
      "metadata": {
        "colab": {
          "base_uri": "https://localhost:8080/"
        },
        "id": "jMF7arlhOKXz",
        "outputId": "6fcea8fa-e30c-463a-eb64-93432677a4fc"
      },
      "execution_count": null,
      "outputs": [
        {
          "output_type": "stream",
          "name": "stdout",
          "text": [
            "Epoch:0 | Loss: 0.5551779866218567 | Test Loss: 0.5739762187004089\n",
            "Epoch:10 | Loss: 0.439968079328537 | Test Loss: 0.4392664134502411\n",
            "Epoch:20 | Loss: 0.3247582018375397 | Test Loss: 0.30455657839775085\n",
            "Epoch:30 | Loss: 0.20954833924770355 | Test Loss: 0.16984669864177704\n",
            "Epoch:40 | Loss: 0.09433845430612564 | Test Loss: 0.03513690456748009\n",
            "Epoch:50 | Loss: 0.023886388167738914 | Test Loss: 0.04784907028079033\n",
            "Epoch:60 | Loss: 0.019956795498728752 | Test Loss: 0.045803118497133255\n",
            "Epoch:70 | Loss: 0.016517987474799156 | Test Loss: 0.037530567497015\n",
            "Epoch:80 | Loss: 0.013089174404740334 | Test Loss: 0.02994490973651409\n",
            "Epoch:90 | Loss: 0.009653178043663502 | Test Loss: 0.02167237363755703\n",
            "Epoch:100 | Loss: 0.006215683650225401 | Test Loss: 0.014086711220443249\n",
            "Epoch:110 | Loss: 0.00278724217787385 | Test Loss: 0.005814164876937866\n",
            "Epoch:120 | Loss: 0.0012645035749301314 | Test Loss: 0.013801801018416882\n",
            "Epoch:130 | Loss: 0.0012645035749301314 | Test Loss: 0.013801801018416882\n",
            "Epoch:140 | Loss: 0.0012645035749301314 | Test Loss: 0.013801801018416882\n",
            "Epoch:150 | Loss: 0.0012645035749301314 | Test Loss: 0.013801801018416882\n",
            "Epoch:160 | Loss: 0.0012645035749301314 | Test Loss: 0.013801801018416882\n",
            "Epoch:170 | Loss: 0.0012645035749301314 | Test Loss: 0.013801801018416882\n",
            "Epoch:180 | Loss: 0.0012645035749301314 | Test Loss: 0.013801801018416882\n",
            "Epoch:190 | Loss: 0.0012645035749301314 | Test Loss: 0.013801801018416882\n"
          ]
        }
      ]
    },
    {
      "cell_type": "code",
      "source": [
        "model_1.state_dict()"
      ],
      "metadata": {
        "colab": {
          "base_uri": "https://localhost:8080/"
        },
        "id": "6AnVKDc6e8Bq",
        "outputId": "20e4dede-cf46-4411-ae89-579bda709291"
      },
      "execution_count": null,
      "outputs": [
        {
          "output_type": "execute_result",
          "data": {
            "text/plain": [
              "OrderedDict([('linear_layer.weight', tensor([[0.6968]], device='cuda:0')),\n",
              "             ('linear_layer.bias', tensor([0.3025], device='cuda:0'))])"
            ]
          },
          "metadata": {},
          "execution_count": 16
        }
      ]
    },
    {
      "cell_type": "markdown",
      "source": [
        "###Making and evaluating predictions"
      ],
      "metadata": {
        "id": "dIBn5BGqe9XL"
      }
    },
    {
      "cell_type": "code",
      "source": [
        "#set model to test mode\n",
        "model_1.eval()\n",
        "\n",
        "#make predictions on test data\n",
        "with torch.inference_mode():\n",
        "  y_eval_preds = model_1(X_test)\n",
        "\n",
        "y_eval_preds"
      ],
      "metadata": {
        "colab": {
          "base_uri": "https://localhost:8080/"
        },
        "id": "u56ZHddxf1u-",
        "outputId": "b1d5bfe8-296d-4fde-8db6-80d00cb27d97"
      },
      "execution_count": null,
      "outputs": [
        {
          "output_type": "execute_result",
          "data": {
            "text/plain": [
              "tensor([[0.8600],\n",
              "        [0.8739],\n",
              "        [0.8878],\n",
              "        [0.9018],\n",
              "        [0.9157],\n",
              "        [0.9296],\n",
              "        [0.9436],\n",
              "        [0.9575],\n",
              "        [0.9714],\n",
              "        [0.9854]], device='cuda:0')"
            ]
          },
          "metadata": {},
          "execution_count": 17
        }
      ]
    },
    {
      "cell_type": "code",
      "source": [
        "#visualizing our model's predictions\n",
        "plot_predicitions(predictions=y_eval_preds.cpu())"
      ],
      "metadata": {
        "colab": {
          "base_uri": "https://localhost:8080/",
          "height": 522
        },
        "id": "H85WXBOGgVgH",
        "outputId": "35a08796-139c-4597-caf0-4253a39bc5d3"
      },
      "execution_count": null,
      "outputs": [
        {
          "output_type": "display_data",
          "data": {
            "text/plain": [
              "<Figure size 600x600 with 1 Axes>"
            ],
            "image/png": "[encoded data removed]"
          },
          "metadata": {}
        }
      ]
    },
    {
      "cell_type": "markdown",
      "source": [
        "###Saving and loading model"
      ],
      "metadata": {
        "id": "bUfJESz1gmUF"
      }
    },
    {
      "cell_type": "code",
      "source": [
        "from pathlib import Path\n",
        "\n",
        "#create models directory\n",
        "MODEL_PATH = Path(\"PyTorchModels\")\n",
        "MODEL_PATH.mkdir(parents=True,exist_ok=True)\n",
        "\n",
        "#create model save path\n",
        "MODEL_NAME = \"02_Linear_Regression_Model_1.pth\"\n",
        "MODEL_SAVE_PATH = MODEL_PATH / MODEL_NAME\n",
        "\n",
        "#save the model dict\n",
        "print(f\"Saving Model to : {MODEL_SAVE_PATH}\")\n",
        "torch.save(obj=model_1.state_dict(),\n",
        "           f=MODEL_SAVE_PATH)"
      ],
      "metadata": {
        "colab": {
          "base_uri": "https://localhost:8080/"
        },
        "id": "dSmQT_kysv01",
        "outputId": "235b4e53-ab6c-4377-c8f0-5033d3e26781"
      },
      "execution_count": null,
      "outputs": [
        {
          "output_type": "stream",
          "name": "stdout",
          "text": [
            "Saving Model to : PyTorchModels/02_Linear_Regression_Model_1.pth\n"
          ]
        }
      ]
    },
    {
      "cell_type": "markdown",
      "source": [
        "###Loading saved model"
      ],
      "metadata": {
        "id": "NdeaXUSktEwK"
      }
    },
    {
      "cell_type": "code",
      "source": [
        "#creating a new instance of model\n",
        "loaded_model = LinearRegressionModel()\n",
        "\n",
        "#load the saved model_1 state dict\n",
        "loaded_model.load_state_dict(torch.load(MODEL_SAVE_PATH))\n",
        "\n",
        "#put the loaded model to device\n",
        "loaded_model.to(device)"
      ],
      "metadata": {
        "colab": {
          "base_uri": "https://localhost:8080/"
        },
        "id": "yzzn44OUvJmV",
        "outputId": "b40f38fb-8e29-472b-b4e0-a1d6084c4c0f"
      },
      "execution_count": null,
      "outputs": [
        {
          "output_type": "execute_result",
          "data": {
            "text/plain": [
              "LinearRegressionModel(\n",
              "  (linear_layer): Linear(in_features=1, out_features=1, bias=True)\n",
              ")"
            ]
          },
          "metadata": {},
          "execution_count": 27
        }
      ]
    },
    {
      "cell_type": "code",
      "source": [
        "loaded_model.state_dict()"
      ],
      "metadata": {
        "colab": {
          "base_uri": "https://localhost:8080/"
        },
        "id": "SZY-t7V-xCL_",
        "outputId": "0847ee86-ce70-4c10-cee1-321c2538e424"
      },
      "execution_count": null,
      "outputs": [
        {
          "output_type": "execute_result",
          "data": {
            "text/plain": [
              "OrderedDict([('linear_layer.weight', tensor([[0.6968]], device='cuda:0')),\n",
              "             ('linear_layer.bias', tensor([0.3025], device='cuda:0'))])"
            ]
          },
          "metadata": {},
          "execution_count": 28
        }
      ]
    },
    {
      "cell_type": "code",
      "source": [
        "#evaluate loaded model\n",
        "loaded_model.eval()\n",
        "with torch.inference_mode():\n",
        "  y_pred_loaded_model = loaded_model(X_test)\n",
        "y_pred_loaded_model == y_eval_preds"
      ],
      "metadata": {
        "colab": {
          "base_uri": "https://localhost:8080/"
        },
        "id": "xMXETo5qwHYn",
        "outputId": "5e936ef3-b9df-41fa-b549-9cb1429aeb3e"
      },
      "execution_count": null,
      "outputs": [
        {
          "output_type": "execute_result",
          "data": {
            "text/plain": [
              "tensor([[True],\n",
              "        [True],\n",
              "        [True],\n",
              "        [True],\n",
              "        [True],\n",
              "        [True],\n",
              "        [True],\n",
              "        [True],\n",
              "        [True],\n",
              "        [True]], device='cuda:0')"
            ]
          },
          "metadata": {},
          "execution_count": 31
        }
      ]
    },
    {
      "cell_type": "code",
      "source": [],
      "metadata": {
        "id": "tk1b-CS3w1vz"
      },
      "execution_count": null,
      "outputs": []
    }
  ]
}